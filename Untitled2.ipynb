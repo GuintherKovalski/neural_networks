{
 "cells": [
  {
   "cell_type": "code",
   "execution_count": 18,
   "metadata": {},
   "outputs": [],
   "source": [
    "import numpy as np\n",
    "import matplotlib.pyplot as plt\n",
    "\n",
    "x = np.linspace(-4,4,100)\n",
    "\n",
    "import numpy as np\n",
    "# sigmoid function to normalize inputs\n",
    "def sigmoid(x):\n",
    "    return 1 / (1 + np.exp(-x))\n",
    "\n",
    "# sigmoid derivatives to adjust synaptic weights\n",
    "def sigmoid_derivative(x):\n",
    "    return np.exp(-x)/((1+np.exp(-x))**2)\n",
    "   \n",
    "def normal(x,mu,sigma,curtose):\n",
    "    return ( 2.*np.pi*sigma**2. )**-.5 * np.exp( -.5 * (x-mu)**2. / sigma**2. )*curtose\n",
    "\n",
    "def normal_derivative(x,mu,sigma,curtose):\n",
    "    return (( 2.*np.pi*sigma**2. )**-.5 * np.exp( -.5 * (x-mu)**2. / sigma**2. )) * (2**0.5)*np.pi**(-1/4)*x*curtose\n"
   ]
  },
  {
   "cell_type": "code",
   "execution_count": 46,
   "metadata": {},
   "outputs": [
    {
     "data": {
      "text/plain": [
       "[<matplotlib.lines.Line2D at 0x7fcb9efee550>]"
      ]
     },
     "execution_count": 46,
     "metadata": {},
     "output_type": "execute_result"
    },
    {
     "data": {
      "image/png": "[encoded data removed]",
      "text/plain": [
       "<Figure size 432x288 with 1 Axes>"
      ]
     },
     "metadata": {
      "needs_background": "light"
     },
     "output_type": "display_data"
    }
   ],
   "source": [
    "z = np.dot(input_layer, synaptic_weights[:input_layer.shape[1]])+bias\n",
    "sigmoid(z)-normal(z,mean,0.1,0.1)\n",
    "\n",
    "plt.plot(sigmoid(x)-normal(x,2,0.7,1.4))"
   ]
  },
  {
   "cell_type": "code",
   "execution_count": 227,
   "metadata": {},
   "outputs": [
    {
     "name": "stdout",
     "output_type": "stream",
     "text": [
      "Random starting synaptic weights: \n",
      "[[ 82.9779953]\n",
      " [-82.9779953]]\n"
     ]
    },
    {
     "data": {
      "text/plain": [
       "[<matplotlib.lines.Line2D at 0x7fcb9cc86470>]"
      ]
     },
     "execution_count": 227,
     "metadata": {},
     "output_type": "execute_result"
    },
    {
     "data": {
      "image/png": "[encoded data removed]",
      "text/plain": [
       "<Figure size 432x288 with 1 Axes>"
      ]
     },
     "metadata": {
      "needs_background": "light"
     },
     "output_type": "display_data"
    }
   ],
   "source": [
    "import time\n",
    "import numpy as np\n",
    "\n",
    "x = np.linspace(-10,10,100)\n",
    "# sigmoid function to normalize inputs\n",
    "def sigmoid(x):\n",
    "    return 1 / (1 + np.exp(-x))\n",
    "def sigmoid_derivative(x):\n",
    "    return np.exp(-x)/((1+np.exp(-x))**2)\n",
    "    \n",
    "# input dataset\n",
    "training_inputs = np.array([[0,0],\n",
    "                            [0,1],\n",
    "                            [1,0],\n",
    "                            [1,1]])\n",
    "\n",
    "# output dataset\n",
    "training_outputs = np.array([[0,1,1,0]]).T\n",
    "\n",
    "# seed random numbers to make calculation\n",
    "np.random.seed(1)\n",
    "\n",
    "# initialize weights randomly with mean 0 to create weight matrix, synaptic weights\n",
    "synaptic_weights = 1000 * np.random.random((2,1)) - 500\n",
    "synaptic_weights[1]= synaptic_weights[0]\n",
    "synaptic_weights[0]=-synaptic_weights[0]\n",
    "print('Random starting synaptic weights: ')\n",
    "print(synaptic_weights)\n",
    "\n",
    "# Iterate 10,000 times\n",
    "loss = []\n",
    "acc = []\n",
    "bias = 1\n",
    "weights = []\n",
    "for iteration in range(10000):\n",
    "    weights.append(synaptic_weights)\n",
    "    # Define input layer\n",
    "    input_layer = training_inputs\n",
    "    # Normalize the product of the input layer with the synaptic weights\n",
    "    #z = sigmoid(np.dot(input_layer, synaptic_weights[:input_layer.shape[1]])+bias)\n",
    "    z = 1-normal(np.dot(input_layer, synaptic_weights[:input_layer.shape[1]]),0,2,5.5)\n",
    "    # how much did we miss?\n",
    "    #error = training_outputs - outputs\n",
    "    error = 2*(training_outputs - z)*(-1)\n",
    "    loss.append(abs(error).mean()*5)\n",
    "    # multiply how much we missed by the\n",
    "    # slope of the sigmoid at the values in outputs\n",
    "    #adjustments = error * sigmoid_derivative(z)*0.1\n",
    "    adjustments = error * (-1)*normal_derivative(z,0,2,5.5)*0.1\n",
    "    # update weights\n",
    "    synaptic_weights = synaptic_weights - np.dot(input_layer.T, adjustments)\n",
    "    bias = bias - np.mean(adjustments)\n",
    "    \n",
    "    acc.append(sum((z>0.5)*1 == training_outputs)/len(training_outputs)) \n",
    "    \n",
    "    x_out,y_out = sum((input_layer*synaptic_weights.T+bias).T),sigmoid( sum((input_layer*synaptic_weights.T+bias).T))\n",
    "    \n",
    "\n",
    "plt.plot(np.array(weights).reshape(10000, 2)[:,0])\n",
    "plt.plot(np.array(weights).reshape(10000, 2)[:,1])"
   ]
  },
  {
   "cell_type": "code",
   "execution_count": 403,
   "metadata": {},
   "outputs": [
    {
     "name": "stdout",
     "output_type": "stream",
     "text": [
      "Random starting synaptic weights: \n",
      "[[ -82.9779953   220.32449344 -499.88562518]]\n",
      "[90.69977179]\n",
      "Random starting synaptic weights: \n",
      "[[-290.97153775   90.88245905 -188.54082482]]\n",
      "[194.0510297]\n"
     ]
    }
   ],
   "source": [
    "import time\n",
    "import numpy as np\n",
    "\n",
    "x = np.linspace(-10,10,100)\n",
    "# sigmoid function to normalize inputs\n",
    "def sigmoid(x):\n",
    "    return 1 / (1 + np.exp(-x))\n",
    "def sigmoid_derivative(x):\n",
    "    return np.exp(-x)/((1+np.exp(-x))**2)\n",
    "    \n",
    "# input dataset\n",
    "training_inputs = np.array([[0,0,0],\n",
    "                            [0,0,1],\n",
    "                            [0,1,0],\n",
    "                            [0,1,1],\n",
    "                            [1,0,0],\n",
    "                            [1,0,1],\n",
    "                            [1,1,0],\n",
    "                            [1,1,1]])\n",
    "\n",
    "# output dataset\n",
    "training_outputs = np.array([[1,1,1,1,0,0,0,0]]).T\n",
    "\n",
    "# seed random numbers to make calculation\n",
    "np.random.seed(1)\n",
    "\n",
    "# initialize weights randomly with mean 0 to create weight matrix, synaptic weights\n",
    "synaptic_weights = 1000 * np.random.random((1,3)) - 500\n",
    "#synaptic_weights[1]= synaptic_weights[0]\n",
    "#synaptic_weights[0]=-synaptic_weights[0]\n",
    "bias = np.random.random(1)*300\n",
    "print('Random starting synaptic weights: ')\n",
    "print(synaptic_weights)\n",
    "print(bias)\n",
    "\n",
    "# Iterate 10,000 times\n",
    "loss = []\n",
    "acc = []\n",
    "weights = []\n",
    "gradients = []\n",
    "iterations = 10000\n",
    "for iteration in range(iterations):\n",
    "    a = 0\n",
    "    batch_loss = []\n",
    "    batch_gradient = []\n",
    "    for i in range(8):\n",
    "        weights.append(synaptic_weights)\n",
    "        # Define input layer\n",
    "        input_layer = training_inputs\n",
    "        # Normalize the product of the input layer with the synaptic weights\n",
    "        z = sigmoid((input_layer[i]*synaptic_weights).sum()+bias)\n",
    "        #z = normal(np.dot(input_layer[i], synaptic_weights[:input_layer.shape[1]]),0,2,5.5)+ bias\n",
    "        \n",
    "        #z = normal(sum(input_layer[i]*synaptic_weights[:input_layer.shape[1]][0]),0,2,5.5)+bias\n",
    "        # how much did we miss?\n",
    "        #error = training_outputs - outputs\n",
    "        error = 2*(training_outputs[i] - z)*(-1)\n",
    "        batch_loss.append(abs(training_outputs[i] - z))\n",
    "        # multiply how much we missed by the\n",
    "        # slope of the sigmoid at the values in outputs\n",
    "        adjustments = error * sigmoid_derivative(z)*0.1\n",
    "        #adjustments = error *normal_derivative(z,0,2,5.5)*0.001\n",
    "\n",
    "        batch_gradient.append(adjustments)\n",
    "        # update weights\n",
    "        synaptic_weights = synaptic_weights - input_layer[i]*adjustments\n",
    "        bias = bias - np.mean(adjustments)\n",
    "        if (z>0.5*1) == training_outputs[i]:\n",
    "            a += 1\n",
    "    gradients.append(np.array(batch_gradient).mean())\n",
    "    acc.append(a/8)\n",
    "    loss.append(np.array(batch_loss).mean())\n",
    "\n",
    "       # x_out,y_out = sum((input_layer*synaptic_weights.T+bias).T),sigmoid( sum((input_layer*synaptic_weights.T+bias).T))\n",
    "\n",
    "print('Random starting synaptic weights: ')\n",
    "print(synaptic_weights)\n",
    "print(bias)\n",
    "#plt.plot(np.array(weights).reshape(24000,3)[:,1])\n",
    "#plt.plot(np.array(weights).reshape(24000,3)[:,0])\n",
    "#plt.plot(np.array(weights).reshape(24000,3)[:,2])"
   ]
  },
  {
   "cell_type": "code",
   "execution_count": 404,
   "metadata": {},
   "outputs": [
    {
     "name": "stdout",
     "output_type": "stream",
     "text": [
      "[ True]\n",
      "[ True]\n",
      "[ True]\n",
      "[ True]\n",
      "[False]\n",
      "[False]\n",
      "[False]\n",
      "[False]\n"
     ]
    }
   ],
   "source": [
    "for i in range(8):\n",
    "    weights.append(synaptic_weights)\n",
    "    # Define input layer\n",
    "    input_layer = training_inputs\n",
    "    # Normalize the product of the input layer with the synaptic weights\n",
    "    z = sigmoid((input_layer[i]*synaptic_weights).sum()+bias)\n",
    "    print(z>0.5)"
   ]
  },
  {
   "cell_type": "code",
   "execution_count": 405,
   "metadata": {},
   "outputs": [
    {
     "data": {
      "text/plain": [
       "<matplotlib.legend.Legend at 0x7fcb98d375f8>"
      ]
     },
     "execution_count": 405,
     "metadata": {},
     "output_type": "execute_result"
    },
    {
     "data": {
      "image/png": "[encoded data removed]",
      "text/plain": [
       "<Figure size 432x288 with 1 Axes>"
      ]
     },
     "metadata": {
      "needs_background": "light"
     },
     "output_type": "display_data"
    }
   ],
   "source": [
    "plt.plot(loss)\n",
    "plt.plot(acc)\n",
    "plt.title('mean loss')\n",
    "plt.xlabel('epochs')\n",
    "plt.legend(['loss','accuracy'])"
   ]
  },
  {
   "cell_type": "code",
   "execution_count": 370,
   "metadata": {},
   "outputs": [
    {
     "ename": "ValueError",
     "evalue": "cannot reshape array of size 8000 into shape (1000,4)",
     "output_type": "error",
     "traceback": [
      "\u001b[0;31m---------------------------------------------------------------------------\u001b[0m",
      "\u001b[0;31mValueError\u001b[0m                                Traceback (most recent call last)",
      "\u001b[0;32m<ipython-input-370-20cf35c1c3f9>\u001b[0m in \u001b[0;36m<module>\u001b[0;34m\u001b[0m\n\u001b[0;32m----> 1\u001b[0;31m \u001b[0mplt\u001b[0m\u001b[0;34m.\u001b[0m\u001b[0mplot\u001b[0m\u001b[0;34m(\u001b[0m\u001b[0mnp\u001b[0m\u001b[0;34m.\u001b[0m\u001b[0marray\u001b[0m\u001b[0;34m(\u001b[0m\u001b[0mgradients\u001b[0m\u001b[0;34m)\u001b[0m\u001b[0;34m.\u001b[0m\u001b[0mreshape\u001b[0m\u001b[0;34m(\u001b[0m\u001b[0miterations\u001b[0m\u001b[0;34m,\u001b[0m\u001b[0;36m4\u001b[0m\u001b[0;34m)\u001b[0m\u001b[0;34m[\u001b[0m\u001b[0;34m:\u001b[0m\u001b[0;34m,\u001b[0m\u001b[0;36m0\u001b[0m\u001b[0;34m]\u001b[0m\u001b[0;34m)\u001b[0m\u001b[0;34m\u001b[0m\u001b[0;34m\u001b[0m\u001b[0m\n\u001b[0m\u001b[1;32m      2\u001b[0m \u001b[0mplt\u001b[0m\u001b[0;34m.\u001b[0m\u001b[0mplot\u001b[0m\u001b[0;34m(\u001b[0m\u001b[0mnp\u001b[0m\u001b[0;34m.\u001b[0m\u001b[0marray\u001b[0m\u001b[0;34m(\u001b[0m\u001b[0mgradients\u001b[0m\u001b[0;34m)\u001b[0m\u001b[0;34m.\u001b[0m\u001b[0mreshape\u001b[0m\u001b[0;34m(\u001b[0m\u001b[0miterations\u001b[0m\u001b[0;34m,\u001b[0m\u001b[0;36m4\u001b[0m\u001b[0;34m)\u001b[0m\u001b[0;34m[\u001b[0m\u001b[0;34m:\u001b[0m\u001b[0;34m,\u001b[0m\u001b[0;36m1\u001b[0m\u001b[0;34m]\u001b[0m\u001b[0;34m)\u001b[0m\u001b[0;34m\u001b[0m\u001b[0;34m\u001b[0m\u001b[0m\n\u001b[1;32m      3\u001b[0m \u001b[0mplt\u001b[0m\u001b[0;34m.\u001b[0m\u001b[0mplot\u001b[0m\u001b[0;34m(\u001b[0m\u001b[0mnp\u001b[0m\u001b[0;34m.\u001b[0m\u001b[0marray\u001b[0m\u001b[0;34m(\u001b[0m\u001b[0mgradients\u001b[0m\u001b[0;34m)\u001b[0m\u001b[0;34m.\u001b[0m\u001b[0mreshape\u001b[0m\u001b[0;34m(\u001b[0m\u001b[0miterations\u001b[0m\u001b[0;34m,\u001b[0m\u001b[0;36m4\u001b[0m\u001b[0;34m)\u001b[0m\u001b[0;34m[\u001b[0m\u001b[0;34m:\u001b[0m\u001b[0;34m,\u001b[0m\u001b[0;36m2\u001b[0m\u001b[0;34m]\u001b[0m\u001b[0;34m)\u001b[0m\u001b[0;34m\u001b[0m\u001b[0;34m\u001b[0m\u001b[0m\n\u001b[1;32m      4\u001b[0m \u001b[0mplt\u001b[0m\u001b[0;34m.\u001b[0m\u001b[0mplot\u001b[0m\u001b[0;34m(\u001b[0m\u001b[0mnp\u001b[0m\u001b[0;34m.\u001b[0m\u001b[0marray\u001b[0m\u001b[0;34m(\u001b[0m\u001b[0mgradients\u001b[0m\u001b[0;34m)\u001b[0m\u001b[0;34m.\u001b[0m\u001b[0mreshape\u001b[0m\u001b[0;34m(\u001b[0m\u001b[0miterations\u001b[0m\u001b[0;34m,\u001b[0m\u001b[0;36m4\u001b[0m\u001b[0;34m)\u001b[0m\u001b[0;34m[\u001b[0m\u001b[0;34m:\u001b[0m\u001b[0;34m,\u001b[0m\u001b[0;36m3\u001b[0m\u001b[0;34m]\u001b[0m\u001b[0;34m)\u001b[0m\u001b[0;34m\u001b[0m\u001b[0;34m\u001b[0m\u001b[0m\n",
      "\u001b[0;31mValueError\u001b[0m: cannot reshape array of size 8000 into shape (1000,4)"
     ]
    }
   ],
   "source": [
    "plt.plot(np.array(gradients).reshape(iterations,4)[:,0])\n",
    "plt.plot(np.array(gradients).reshape(iterations,4)[:,1])\n",
    "plt.plot(np.array(gradients).reshape(iterations,4)[:,2])\n",
    "plt.plot(np.array(gradients).reshape(iterations,4)[:,3])"
   ]
  },
  {
   "cell_type": "code",
   "execution_count": 377,
   "metadata": {},
   "outputs": [
    {
     "data": {
      "text/plain": [
       "[<matplotlib.lines.Line2D at 0x7fcb9aee2780>]"
      ]
     },
     "execution_count": 377,
     "metadata": {},
     "output_type": "execute_result"
    },
    {
     "data": {
      "image/png": "[encoded data removed]",
      "text/plain": [
       "<Figure size 432x288 with 1 Axes>"
      ]
     },
     "metadata": {
      "needs_background": "light"
     },
     "output_type": "display_data"
    }
   ],
   "source": [
    "plt.plot(np.array(gradients))"
   ]
  },
  {
   "cell_type": "code",
   "execution_count": 141,
   "metadata": {},
   "outputs": [
    {
     "name": "stdout",
     "output_type": "stream",
     "text": [
      "[[0.0004608]\n",
      " [0.0004608]]\n",
      "1.307332139044942\n",
      "0.3073321390449365\n"
     ]
    }
   ],
   "source": [
    "training_outputs = np.array([[1,0,0,1]]).T\n",
    "synaptic_weights = 2*np.random.random((2,1))-1\n",
    "loss = []\n",
    "acc = []\n",
    "bias = 1\n",
    "LR = 0.01\n",
    "mean = 0\n",
    "weights = []\n",
    "\n",
    "for iteration in range(10000):\n",
    "    weights.append(synaptic_weights)\n",
    "    # Define input layer\n",
    "    input_layer = training_inputs\n",
    "    # Normalize the product of the input layer with the synaptic weights\n",
    "    #z = sigmoid(np.dot(input_layer, synaptic_weights[:input_layer.shape[1]])+bias)\n",
    "    z = np.dot(input_layer, synaptic_weights[:input_layer.shape[1]])+bias\n",
    "    z = sigmoid(z)-normal(z,mean,0.7,1.4)\n",
    "    # how much did we miss?\n",
    "    #error = training_outputs - outputs\n",
    "    error = 2*(training_outputs - z)*(-1)\n",
    "    loss.append(abs(error).mean()*5)\n",
    "    # multiply how much we missed by the\n",
    "    # slope of the sigmoid at the values in outputs\n",
    "    adjustments = error * sigmoid_derivative(z)*LR\n",
    "\n",
    "    # update weights\n",
    "    synaptic_weights = synaptic_weights - np.dot(input_layer.T, adjustments)\n",
    "    bias = bias - np.mean(adjustments)\n",
    "    mean = mean - np.mean(adjustments)\n",
    "    \n",
    "    acc.append(sum((z>0.5)*1 == training_outputs)/len(training_outputs)) \n",
    "    \n",
    "    x_out,y_out = sum((input_layer*synaptic_weights.T+bias).T),sigmoid( sum((input_layer*synaptic_weights.T+bias).T))\n",
    "    if(acc[-1])==1:\n",
    "        break\n",
    "                                                                  \n",
    "print(synaptic_weights)\n",
    "print(bias)\n",
    "print(mean)"
   ]
  },
  {
   "cell_type": "code",
   "execution_count": 97,
   "metadata": {},
   "outputs": [
    {
     "data": {
      "text/plain": [
       "[<matplotlib.lines.Line2D at 0x7fcb9edd26d8>]"
      ]
     },
     "execution_count": 97,
     "metadata": {},
     "output_type": "execute_result"
    },
    {
     "data": {
      "image/png": "[encoded data removed]",
      "text/plain": [
       "<Figure size 432x288 with 1 Axes>"
      ]
     },
     "metadata": {
      "needs_background": "light"
     },
     "output_type": "display_data"
    }
   ],
   "source": [
    "def normal(x,mu,sigma,curtose):\n",
    "    return ( 2.*np.pi*sigma**2. )**-.5 * np.exp( -.5 * (x-mu)**2. / sigma**2. )*curtose\n",
    "\n",
    "plt.plot(1-normal(x,0,2,5.5))\n"
   ]
  },
  {
   "cell_type": "code",
   "execution_count": 134,
   "metadata": {},
   "outputs": [
    {
     "name": "stdout",
     "output_type": "stream",
     "text": [
      "[[2.88488515]\n",
      " [2.88488515]]\n",
      "-1.138067252669443\n",
      "0\n"
     ]
    }
   ],
   "source": [
    "training_outputs = np.array([[1,0,0,1]]).T\n",
    "synaptic_weights = 2*np.random.random((2,1))-1\n",
    "loss = []\n",
    "acc = []\n",
    "bias = 1\n",
    "LR = 0.01\n",
    "mean = 0\n",
    "weights = []\n",
    "\n",
    "for iteration in range(10000):\n",
    "    weights.append(synaptic_weights)\n",
    "    # Define input layer\n",
    "    input_layer = training_inputs\n",
    "    # Normalize the product of the input layer with the synaptic weights\n",
    "    #z = sigmoid(np.dot(input_layer, synaptic_weights[:input_layer.shape[1]])+bias)\n",
    "    z = np.dot(input_layer, synaptic_weights[:input_layer.shape[1]])+bias\n",
    "    z = 1-normal(z,0,2,5.5)\n",
    "    \n",
    "    # how much did we miss?\n",
    "    #error = training_outputs - outputs\n",
    "    error = 2*(training_outputs - z)*(-1)\n",
    "    loss.append(abs(error).mean()*5)\n",
    "    # multiply how much we missed by the\n",
    "    # slope of the sigmoid at the values in outputs\n",
    "    adjustments = error * normal_derivative(z,0,2,5.5)*LR\n",
    "\n",
    "    # update weights\n",
    "    synaptic_weights = synaptic_weights - np.dot(input_layer.T, adjustments)\n",
    "    bias = bias - np.mean(adjustments)\n",
    "    #mean = mean - np.mean(adjustments)\n",
    "    \n",
    "    acc.append(sum((z>0.5)*1 == training_outputs)/len(training_outputs)) \n",
    "    \n",
    "    x_out,y_out = sum((input_layer*synaptic_weights.T+bias).T),sigmoid( sum((input_layer*synaptic_weights.T+bias).T))\n",
    "    if(acc[-1])==1:\n",
    "        break\n",
    "                                                                  \n",
    "print(synaptic_weights)\n",
    "print(bias)\n",
    "print(mean)"
   ]
  },
  {
   "cell_type": "code",
   "execution_count": 129,
   "metadata": {},
   "outputs": [
    {
     "name": "stdout",
     "output_type": "stream",
     "text": [
      "[[-0.09709127]\n",
      " [ 0.6123303 ]\n",
      " [ 0.6123303 ]\n",
      " [-0.09709127]]\n"
     ]
    }
   ],
   "source": [
    "synaptic_weights[1]= synaptic_weights[0]\n",
    "synaptic_weights[0]=-synaptic_weights[0]\n",
    "\n",
    "z = np.dot(input_layer, synaptic_weights[:input_layer.shape[1]])\n",
    "z = 1-normal(z,0,2,5.5)\n",
    "print(z)"
   ]
  },
  {
   "cell_type": "code",
   "execution_count": 122,
   "metadata": {},
   "outputs": [
    {
     "data": {
      "text/plain": [
       "array([[0, 0],\n",
       "       [0, 1],\n",
       "       [1, 0],\n",
       "       [1, 1]])"
      ]
     },
     "execution_count": 122,
     "metadata": {},
     "output_type": "execute_result"
    }
   ],
   "source": [
    "input_layer"
   ]
  },
  {
   "cell_type": "code",
   "execution_count": 135,
   "metadata": {},
   "outputs": [
    {
     "data": {
      "text/plain": [
       "[<matplotlib.lines.Line2D at 0x7fcb9e096e48>]"
      ]
     },
     "execution_count": 135,
     "metadata": {},
     "output_type": "execute_result"
    },
    {
     "data": {
      "image/png": "[encoded data removed]",
      "text/plain": [
       "<Figure size 432x288 with 1 Axes>"
      ]
     },
     "metadata": {
      "needs_background": "light"
     },
     "output_type": "display_data"
    }
   ],
   "source": [
    "plt.plot(np.array(weights).reshape(10000, 2)[:,0])\n",
    "plt.plot(np.array(weights).reshape(10000, 2)[:,1])"
   ]
  },
  {
   "cell_type": "code",
   "execution_count": 136,
   "metadata": {},
   "outputs": [
    {
     "data": {
      "text/plain": [
       "<matplotlib.legend.Legend at 0x7fcb9e02ef98>"
      ]
     },
     "execution_count": 136,
     "metadata": {},
     "output_type": "execute_result"
    },
    {
     "data": {
      "image/png": "[encoded data removed]",
      "text/plain": [
       "<Figure size 432x288 with 1 Axes>"
      ]
     },
     "metadata": {
      "needs_background": "light"
     },
     "output_type": "display_data"
    }
   ],
   "source": [
    "plt.plot(loss)\n",
    "plt.plot(acc)\n",
    "plt.title('mean loss')\n",
    "plt.xlabel('epochs')\n",
    "plt.legend(['loss','accuracy'])\n"
   ]
  },
  {
   "cell_type": "code",
   "execution_count": 137,
   "metadata": {},
   "outputs": [
    {
     "data": {
      "text/plain": [
       "array([[-1.17292921e-07],\n",
       "       [-1.17292921e-07]])"
      ]
     },
     "execution_count": 137,
     "metadata": {},
     "output_type": "execute_result"
    }
   ],
   "source": []
  }
 ],
 "metadata": {
  "kernelspec": {
   "display_name": "Python 3",
   "language": "python",
   "name": "python3"
  },
  "language_info": {
   "codemirror_mode": {
    "name": "ipython",
    "version": 3
   },
   "file_extension": ".py",
   "mimetype": "text/x-python",
   "name": "python",
   "nbconvert_exporter": "python",
   "pygments_lexer": "ipython3",
   "version": "3.6.10"
  }
 },
 "nbformat": 4,
 "nbformat_minor": 4
}
